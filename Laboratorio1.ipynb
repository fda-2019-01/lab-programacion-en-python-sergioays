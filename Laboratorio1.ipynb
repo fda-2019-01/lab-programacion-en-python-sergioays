{
 "cells": [
  {
   "cell_type": "code",
   "execution_count": 1,
   "metadata": {},
   "outputs": [
    {
     "data": {
      "text/plain": [
       "[['E', '1', '1999-02-28', 'b,g,f', 'jjj:3,bbb:0,ddd:9,ggg:8,hhh:2'],\n",
       " ['A', '2', '1999-10-28', 'a,f,c', 'ccc:2,ddd:0,aaa:3,hhh:9'],\n",
       " ['B', '5', '1998-05-02', 'f,e,a,c', 'ddd:2,ggg:5,ccc:6,jjj:1'],\n",
       " ['A', '3', '1999-08-28', 'a,b', 'hhh:9,iii:5,eee:7,bbb:1'],\n",
       " ['C', '6', '1999-12-01', 'f,g,d,a', 'iii:6,ddd:5,eee:4,jjj:3'],\n",
       " ['A', '7', '1998-07-28', 'c,d', 'bbb:2,hhh:0,ccc:4,fff:1,aaa:7'],\n",
       " ['A', '9', '1997-02-28', 'g,d,a', 'aaa:5,fff:8,ddd:2,iii:0,jjj:7,ccc:1'],\n",
       " ['B', '1', '1999-05-10', 'b,a', 'fff:3,hhh:1,ddd:2'],\n",
       " ['E', '2', '1997-04-12', 'd,e,a,f', 'eee:4,ccc:5,iii:9,fff:7,ggg:6,bbb:0'],\n",
       " ['B', '3', '1999-11-23', 'd,b,g,f', 'bbb:7,jjj:9,fff:5,iii:4,ggg:2,eee:3'],\n",
       " ['C', '7', '1998-01-17', 'd,c,f,b', 'hhh:6,eee:4,iii:0,fff:2,jjj:1'],\n",
       " ['C', '5', '1998-12-28', 'd,e,a,c', 'bbb:7,iii:6,ggg:9'],\n",
       " ['D', '3', '1999-10-15', 'g,e,f,b', 'bbb:9,aaa:3,ccc:6,fff:4,eee:2'],\n",
       " ['E', '8', '1998-11-01', 'c,f', 'aaa:8,ddd:5,jjj:1'],\n",
       " ['B', '9', '1999-08-12', 'd,b', 'ccc:0,jjj:6,fff:7,ddd:3,aaa:2'],\n",
       " ['D', '1', '1997-12-01', 'f,e', 'ccc:0,eee:6,bbb:9,ddd:3'],\n",
       " ['E', '3', '1997-07-28', 'e,b,f', 'bbb:6,iii:3,hhh:5,fff:4,ggg:9,ddd:2'],\n",
       " ['D', '5', '1998-08-12', 'g,a', 'hhh:4,jjj:5,ccc:9'],\n",
       " ['E', '8', '1999-08-24', 'e,c,f,a', 'ccc:1,iii:6,fff:9'],\n",
       " ['E', '9', '1998-01-23', 'e,a', 'bbb:9,aaa:3,fff:1'],\n",
       " ['E', '7', '1999-06-22', 'e,f', 'ddd:9,iii:2,aaa:4'],\n",
       " ['E', '3', '1999-04-24', 'c,b,g', 'ccc:5,fff:8,iii:7'],\n",
       " ['D', '5', '1999-06-25', 'c,f,a', 'eee:3,jjj:2,ddd:7'],\n",
       " ['A', '1', '1999-08-25', 'f,a,d', 'jjj:1,ggg:0,ccc:7,ddd:9,bbb:3'],\n",
       " ['E', '4', '1997-07-26', 'c,d', 'jjj:6,ccc:0,aaa:1,hhh:9,iii:7,ggg:8'],\n",
       " ['E', '6', '1997-09-24', 'e,d,c', 'fff:3,eee:6,iii:4,bbb:7,ddd:0,ccc:1'],\n",
       " ['A', '8', '1997-09-28', 'a,e,f', 'fff:0,ddd:5,ccc:4'],\n",
       " ['E', '5', '1999-06-22', 'c,a,g', 'ggg:6,hhh:3,ddd:9,ccc:0,jjj:7'],\n",
       " ['A', '6', '1999-07-29', 'f,e', 'hhh:6,jjj:0,eee:5,iii:7,ccc:3'],\n",
       " ['C', '0', '1999-08-22', 'f,c,a,g', 'eee:1,fff:4,aaa:2,ccc:7,ggg:0,ddd:6'],\n",
       " ['A', '1', '1998-04-26', 'b,f', 'ccc:6,aaa:9,eee:5,ddd:0,bbb:3'],\n",
       " ['D', '2', '1998-02-24', 'b,f', 'bbb:7,hhh:1,aaa:6,iii:4,fff:9,ddd:5'],\n",
       " ['E', '5', '1999-03-24', 'a,c', 'fff:3,ccc:1,ggg:2,eee:5'],\n",
       " ['B', '4', '1998-03-23', 'b,f,c', 'iii:7,ggg:3,ddd:0,jjj:8,hhh:5,ccc:1'],\n",
       " ['B', '6', '1999-04-21', 'f,a,e', 'hhh:6,ccc:3,jjj:0,bbb:8,ddd:7'],\n",
       " ['D', '7', '1999-02-29', 'a,f', 'aaa:0,fff:5,ddd:3'],\n",
       " ['B', '8', '1997-05-21', 'c,a', 'ddd:5,jjj:2,iii:7,ccc:0,bbb:4'],\n",
       " ['C', '9', '1997-07-22', 'c,a,e,f', 'eee:0,fff:2,hhh:6'],\n",
       " ['E', '1', '1999-09-28', 'e,d', 'fff:9,iii:2,eee:0'],\n",
       " ['E', '5', '1998-01-26', 'f,a,d', 'hhh:8,ggg:3,jjj:5']]"
      ]
     },
     "execution_count": 1,
     "metadata": {},
     "output_type": "execute_result"
    }
   ],
   "source": [
    "data = open('data.csv', 'r').readlines()\n",
    "data = [line.replace('\\t', ' ') for line in data]\n",
    "data = [line.replace('\\n', '') for line in data]\n",
    "data = [line.split(' ') for line in data]\n",
    "data"
   ]
  },
  {
   "cell_type": "code",
   "execution_count": 2,
   "metadata": {},
   "outputs": [
    {
     "name": "stdout",
     "output_type": "stream",
     "text": [
      "190\n"
     ]
    }
   ],
   "source": [
    "#Pregunta 1\n",
    "suma = sum([int(line[1]) for line in data])\n",
    "print(suma)"
   ]
  },
  {
   "cell_type": "code",
   "execution_count": 3,
   "metadata": {},
   "outputs": [
    {
     "name": "stdout",
     "output_type": "stream",
     "text": [
      "A,8\n",
      "B,7\n",
      "C,5\n",
      "D,6\n",
      "E,14\n"
     ]
    }
   ],
   "source": [
    "#Pregunta 2\n",
    "letra = sorted(set([line[0] for line in data]))\n",
    "cant = [line[0] for line in data]\n",
    "for n in letra:\n",
    "    print(str(n)+','+str(cant.count(n)))"
   ]
  },
  {
   "cell_type": "code",
   "execution_count": 4,
   "metadata": {},
   "outputs": [
    {
     "name": "stdout",
     "output_type": "stream",
     "text": [
      "A,37\n",
      "B,36\n",
      "C,27\n",
      "D,23\n",
      "E,67\n"
     ]
    }
   ],
   "source": [
    "#Pregunta 3\n",
    "for n in letra:\n",
    "    suma = sum([int(line[1]) for line in data if line[0] == n])\n",
    "    print(str(n)+','+str(suma))"
   ]
  },
  {
   "cell_type": "code",
   "execution_count": 5,
   "metadata": {},
   "outputs": [
    {
     "name": "stdout",
     "output_type": "stream",
     "text": [
      "01,3\n",
      "02,4\n",
      "03,2\n",
      "04,4\n",
      "05,3\n",
      "06,3\n",
      "07,5\n",
      "08,6\n",
      "09,3\n",
      "10,2\n",
      "11,2\n",
      "12,3\n"
     ]
    }
   ],
   "source": [
    "#Pregunta 4\n",
    "fecha = [line[2].split('-') for line in data]\n",
    "mes = sorted(set([line[1] for line in fecha]))\n",
    "cant = [line[1] for line in fecha]\n",
    "for n in mes:\n",
    "    print(str(n)+','+str(cant.count(n)))"
   ]
  },
  {
   "cell_type": "code",
   "execution_count": 6,
   "metadata": {},
   "outputs": [
    {
     "name": "stdout",
     "output_type": "stream",
     "text": [
      "A,9,1\n",
      "B,9,1\n",
      "C,9,0\n",
      "D,7,1\n",
      "E,9,1\n"
     ]
    }
   ],
   "source": [
    "#Pregunta 5\n",
    "for n in letra:\n",
    "    maximo = max([int(line[1]) for line in data if line[0] == n])\n",
    "    minimo = min([int(line[1]) for line in data if line[0] == n])\n",
    "    print(str(n)+','+str(maximo)+','+str(minimo))"
   ]
  },
  {
   "cell_type": "code",
   "execution_count": 7,
   "metadata": {},
   "outputs": [],
   "source": [
    "#Pregunta 6\n"
   ]
  },
  {
   "cell_type": "code",
   "execution_count": 8,
   "metadata": {},
   "outputs": [
    {
     "name": "stdout",
     "output_type": "stream",
     "text": [
      "('0', ['C'])\n",
      "('1', ['E', 'B', 'D', 'A', 'A', 'E'])\n",
      "('2', ['A', 'E', 'D'])\n",
      "('3', ['A', 'B', 'D', 'E', 'E'])\n",
      "('4', ['E', 'B'])\n",
      "('5', ['B', 'C', 'D', 'D', 'E', 'E', 'E'])\n",
      "('6', ['C', 'E', 'A', 'B'])\n",
      "('7', ['A', 'C', 'E', 'D'])\n",
      "('8', ['E', 'E', 'A', 'B'])\n",
      "('9', ['A', 'B', 'E', 'C'])\n"
     ]
    }
   ],
   "source": [
    "#Pregunta 7\n",
    "numero = sorted(set([line[1] for line in data]))\n",
    "for n in numero:\n",
    "    rep = [line[0] for line in data if line[1] == n]\n",
    "    print((n,rep))"
   ]
  },
  {
   "cell_type": "code",
   "execution_count": 9,
   "metadata": {},
   "outputs": [
    {
     "name": "stdout",
     "output_type": "stream",
     "text": [
      "('0', ['C'])\n",
      "('1', ['A', 'A', 'B', 'D', 'E', 'E'])\n",
      "('2', ['A', 'D', 'E'])\n",
      "('3', ['A', 'B', 'D', 'E', 'E'])\n",
      "('4', ['B', 'E'])\n",
      "('5', ['B', 'C', 'D', 'D', 'E', 'E', 'E'])\n",
      "('6', ['A', 'B', 'C', 'E'])\n",
      "('7', ['A', 'C', 'D', 'E'])\n",
      "('8', ['A', 'B', 'E', 'E'])\n",
      "('9', ['A', 'B', 'C', 'E'])\n"
     ]
    }
   ],
   "source": [
    "#Pregunta 8\n",
    "for n in numero:\n",
    "    rep = sorted([line[0] for line in data if line[1] == n])\n",
    "    print((n,rep))"
   ]
  },
  {
   "cell_type": "code",
   "execution_count": 10,
   "metadata": {},
   "outputs": [
    {
     "name": "stdout",
     "output_type": "stream",
     "text": [
      "('0', ['C'])\n",
      "('1', ['A', 'B', 'D', 'E'])\n",
      "('2', ['A', 'D', 'E'])\n",
      "('3', ['A', 'B', 'D', 'E'])\n",
      "('4', ['B', 'E'])\n",
      "('5', ['B', 'C', 'D', 'E'])\n",
      "('6', ['A', 'B', 'C', 'E'])\n",
      "('7', ['A', 'C', 'D', 'E'])\n",
      "('8', ['A', 'B', 'E'])\n",
      "('9', ['A', 'B', 'C', 'E'])\n"
     ]
    }
   ],
   "source": [
    "#Pregunta 9\n",
    "for n in numero:\n",
    "    rep = sorted(set([line[0] for line in data if line[1] == n]))\n",
    "    print((n,rep))"
   ]
  },
  {
   "cell_type": "code",
   "execution_count": 11,
   "metadata": {},
   "outputs": [
    {
     "name": "stdout",
     "output_type": "stream",
     "text": [
      "aaa,13\n",
      "bbb,16\n",
      "ccc,23\n",
      "ddd,23\n",
      "eee,15\n",
      "fff,20\n",
      "ggg,13\n",
      "hhh,16\n",
      "iii,18\n",
      "jjj,18\n"
     ]
    }
   ],
   "source": [
    "#Pregunta 10\n",
    "clave = [line[4].split(',') for line in data]\n",
    "clave = [[elem[:3] for elem in line] for line in clave]\n",
    "clave = sum(clave, [])\n",
    "claveorg = sorted(set(clave))\n",
    "for n in claveorg:\n",
    "    rep = [line for line in clave if line == n].count(n)\n",
    "    print(str(n)+','+str(rep))"
   ]
  },
  {
   "cell_type": "code",
   "execution_count": 12,
   "metadata": {},
   "outputs": [
    {
     "name": "stdout",
     "output_type": "stream",
     "text": [
      "E,3,5\n",
      "A,3,4\n",
      "B,4,4\n",
      "A,2,4\n",
      "C,4,4\n",
      "A,2,5\n",
      "A,3,6\n",
      "B,2,3\n",
      "E,4,6\n",
      "B,4,6\n",
      "C,4,5\n",
      "C,4,3\n",
      "D,4,5\n",
      "E,2,3\n",
      "B,2,5\n",
      "D,2,4\n",
      "E,3,6\n",
      "D,2,3\n",
      "E,4,3\n",
      "E,2,3\n",
      "E,2,3\n",
      "E,3,3\n",
      "D,3,3\n",
      "A,3,5\n",
      "E,2,6\n",
      "E,3,6\n",
      "A,3,3\n",
      "E,3,5\n",
      "A,2,5\n",
      "C,4,6\n",
      "A,2,5\n",
      "D,2,6\n",
      "E,2,4\n",
      "B,3,6\n",
      "B,3,5\n",
      "D,2,3\n",
      "B,2,5\n",
      "C,4,3\n",
      "E,2,3\n",
      "E,3,3\n"
     ]
    }
   ],
   "source": [
    "#Pregunta 11\n",
    "col4 = [line[3].split(',') for line in data]\n",
    "col5 = [line[4].split(',') for line in data]\n",
    "for n in range(len(data)):\n",
    "    print(str(data[n][0])+','+str(len(col4[n]))+','+str(len(col5[n])))"
   ]
  },
  {
   "cell_type": "code",
   "execution_count": 19,
   "metadata": {},
   "outputs": [
    {
     "name": "stdout",
     "output_type": "stream",
     "text": [
      "a,114\n",
      "b,40\n",
      "c,91\n",
      "d,65\n",
      "e,79\n",
      "f,110\n",
      "g,35\n"
     ]
    }
   ],
   "source": [
    "#Pregunta 12\n",
    "let = [line[3].split(',') for line in data]\n",
    "let_or = sorted(set(sum(let, [])))\n",
    "busq = [line[1:4] for line in data]\n",
    "b = []\n",
    "for line in busq:\n",
    "    b.append([line[0]] + line[2].split(','))\n",
    "sol = []\n",
    "for letra in let_or:\n",
    "    inic = [letra]\n",
    "    count = 0\n",
    "    for line in b:\n",
    "        if letra in line:\n",
    "            count = count + int(line[0])\n",
    "    inic = inic + [count]\n",
    "    sol = sol + [inic]       \n",
    "for line in sol:\n",
    "    print(str(line[0])+\",\"+str(line[1]))"
   ]
  },
  {
   "cell_type": "code",
   "execution_count": 15,
   "metadata": {},
   "outputs": [
    {
     "name": "stdout",
     "output_type": "stream",
     "text": [
      "E,22\n",
      "A,14\n",
      "B,14\n",
      "A,22\n",
      "C,18\n",
      "A,14\n",
      "A,23\n",
      "B,6\n",
      "E,31\n",
      "B,30\n",
      "C,13\n",
      "C,22\n",
      "D,24\n",
      "E,14\n",
      "B,18\n",
      "D,18\n",
      "E,29\n",
      "D,18\n",
      "E,16\n",
      "E,13\n",
      "E,15\n",
      "E,20\n",
      "D,12\n",
      "A,20\n",
      "E,31\n",
      "E,21\n",
      "A,9\n",
      "E,25\n",
      "A,21\n",
      "C,20\n",
      "A,23\n",
      "D,32\n",
      "E,11\n",
      "B,24\n",
      "B,24\n",
      "D,8\n",
      "B,18\n",
      "C,8\n",
      "E,11\n",
      "E,16\n"
     ]
    }
   ],
   "source": [
    "#Pregunta 13\n",
    "num5 = [line[4].split(',') for line in data]\n",
    "num5 = [[elem[4] for elem in line] for line in num5]\n",
    "num5 = [[int(elem) for elem in line] for line in num5]\n",
    "letras = [line[0] for line in data]\n",
    "for n in range(len(letras)):\n",
    "    print(str(letras[n])+\",\"+str(sum(num5[n])))"
   ]
  },
  {
   "cell_type": "code",
   "execution_count": null,
   "metadata": {},
   "outputs": [],
   "source": []
  }
 ],
 "metadata": {
  "kernelspec": {
   "display_name": "Python 3",
   "language": "python",
   "name": "python3"
  },
  "language_info": {
   "codemirror_mode": {
    "name": "ipython",
    "version": 3
   },
   "file_extension": ".py",
   "mimetype": "text/x-python",
   "name": "python",
   "nbconvert_exporter": "python",
   "pygments_lexer": "ipython3",
   "version": "3.7.3"
  }
 },
 "nbformat": 4,
 "nbformat_minor": 2
}
